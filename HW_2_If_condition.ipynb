{
  "nbformat": 4,
  "nbformat_minor": 0,
  "metadata": {
    "colab": {
      "provenance": [],
      "authorship_tag": "ABX9TyOhNZ0mvz/y6b9j7JtPp25+",
      "include_colab_link": true
    },
    "kernelspec": {
      "name": "python3",
      "display_name": "Python 3"
    },
    "language_info": {
      "name": "python"
    }
  },
  "cells": [
    {
      "cell_type": "markdown",
      "metadata": {
        "id": "view-in-github",
        "colab_type": "text"
      },
      "source": [
        "<a href=\"https://colab.research.google.com/github/ZahraaAlqahtani/MASAR1/blob/main/HW_2_If_condition.ipynb\" target=\"_parent\"><img src=\"https://colab.research.google.com/assets/colab-badge.svg\" alt=\"Open In Colab\"/></a>"
      ]
    },
    {
      "cell_type": "code",
      "execution_count": 1,
      "metadata": {
        "colab": {
          "base_uri": "https://localhost:8080/"
        },
        "id": "qqUpbY6B6xnd",
        "outputId": "3f3b2d30-d6d0-4cb6-e927-1a36be78b4a2"
      },
      "outputs": [
        {
          "output_type": "stream",
          "name": "stdout",
          "text": [
            "المكافأة هي: 20.0%\n"
          ]
        }
      ],
      "source": [
        "# عدد سنوات الخبرة وتقييم الأداء\n",
        "years_of_experience = 12\n",
        "performance_rating = 'ممتاز'\n",
        "\n",
        "# حساب المكافأة باستخدام جمل الشرط\n",
        "if years_of_experience <= 10:\n",
        "    if performance_rating == 'ممتاز':\n",
        "        reward = 0.10\n",
        "    elif performance_rating == 'ضعيف':\n",
        "        reward = 0.05\n",
        "    else:\n",
        "        reward = 0.0\n",
        "else:\n",
        "    if performance_rating == 'ممتاز':\n",
        "        reward = 0.20\n",
        "    elif performance_rating == 'ضعيف':\n",
        "        reward = 0.15\n",
        "    else:\n",
        "        reward = 0.0\n",
        "\n",
        "# طباعة المكافأة\n",
        "print(f'المكافأة هي: {reward * 100}%')\n"
      ]
    }
  ]
}