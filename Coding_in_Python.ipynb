{
  "nbformat": 4,
  "nbformat_minor": 0,
  "metadata": {
    "colab": {
      "provenance": [],
      "include_colab_link": true
    },
    "kernelspec": {
      "name": "python3",
      "display_name": "Python 3"
    },
    "language_info": {
      "name": "python"
    }
  },
  "cells": [
    {
      "cell_type": "markdown",
      "metadata": {
        "id": "view-in-github",
        "colab_type": "text"
      },
      "source": [
        "<a href=\"https://colab.research.google.com/github/ZahraaAlqahtani/MASAR1/blob/main/Coding_in_Python.ipynb\" target=\"_parent\"><img src=\"https://colab.research.google.com/assets/colab-badge.svg\" alt=\"Open In Colab\"/></a>"
      ]
    },
    {
      "cell_type": "markdown",
      "source": [
        "1. Loop:\n",
        "Question:\n",
        "Write a Python program that uses a 'for' loop to print all even numbers from 1 to 10. Then, use 'while' loop."
      ],
      "metadata": {
        "id": "s3ipcakz3HYv"
      }
    },
    {
      "cell_type": "code",
      "execution_count": 1,
      "metadata": {
        "id": "Zox_Orcl3Eug",
        "outputId": "8ed694d9-2f00-41a8-8125-739162a620c4",
        "colab": {
          "base_uri": "https://localhost:8080/"
        }
      },
      "outputs": [
        {
          "output_type": "stream",
          "name": "stdout",
          "text": [
            "\n",
            "Even numbers from 1 to 10 using a while loop:\n",
            "2\n",
            "4\n",
            "6\n",
            "8\n",
            "10\n"
          ]
        }
      ],
      "source": [
        "#Your code goes here\n",
        "print(\"\\nEven numbers from 1 to 10 using a while loop:\")\n",
        "num = 2\n",
        "while num <= 10:\n",
        "    print(num)\n",
        "    num += 2\n"
      ]
    },
    {
      "cell_type": "markdown",
      "source": [
        "2. Control Flows:\n",
        "Question:\n",
        "Create a Python function named grade_classifier that takes a student's score as an argument and returns a string indicating their grade. Use the following criteria:\n",
        "\n",
        "Score >= 90: \"A\"\n",
        "80 <= Score < 90: \"B\"\n",
        "70 <= Score < 80: \"C\"\n",
        "60 <= Score < 70: \"D\"\n",
        "Score < 60: \"F\""
      ],
      "metadata": {
        "id": "2mJD3d1P3XwY"
      }
    },
    {
      "cell_type": "code",
      "source": [
        "#Your code goes here\n",
        "def grade_classifier(score):\n",
        "    if score >= 90:\n",
        "        return \"A\"\n",
        "    elif score >= 80:\n",
        "        return \"B\"\n",
        "    elif score >= 70:\n",
        "        return \"C\"\n",
        "    elif score >= 60:\n",
        "        return \"D\"\n",
        "    else:\n",
        "        return \"F\"\n",
        "\n",
        "# Example usage:\n",
        "score = 85\n",
        "print(\"Grade:\", grade_classifier(score))\n"
      ],
      "metadata": {
        "id": "i0E9273Y3aat",
        "outputId": "96c594c4-b974-4f9b-9e77-a80c8eb1542e",
        "colab": {
          "base_uri": "https://localhost:8080/"
        }
      },
      "execution_count": 2,
      "outputs": [
        {
          "output_type": "stream",
          "name": "stdout",
          "text": [
            "Grade: B\n"
          ]
        }
      ]
    },
    {
      "cell_type": "markdown",
      "source": [
        "3. If Conditions:\n",
        "Question:\n",
        "Write a Python program that prompts the user to enter their age. Use if-elif-else statements to categorize and print the user's age group as follows:\n",
        "\n",
        "If the age is less than 13, print \"Child.\"\n",
        "If the age is between 13 and 19 (inclusive), print \"Teenager.\"\n",
        "If the age is between 20 and 59 (inclusive), print \"Adult.\"\n",
        "If the age is 60 or older, print \"Senior Citizen.\""
      ],
      "metadata": {
        "id": "w7EeMAF83cHA"
      }
    },
    {
      "cell_type": "code",
      "source": [
        "#Your code goes here\n",
        "# Prompt the user to enter their age\n",
        "age = int(input(\"Please enter your age: \"))\n",
        "\n",
        "# Categorize the age group\n",
        "if age < 13:\n",
        "    print(\"You are a Child.\")\n",
        "elif 13 <= age <= 19:\n",
        "    print(\"You are a Teenager.\")\n",
        "elif 20 <= age <= 59:\n",
        "    print(\"You are an Adult.\")\n",
        "else:\n",
        "    print(\"You are a Senior Citizen.\")\n"
      ],
      "metadata": {
        "id": "FUEtX83a3o9C",
        "outputId": "2aad2986-c02c-45f2-a3a8-06fbbd66f2ff",
        "colab": {
          "base_uri": "https://localhost:8080/"
        }
      },
      "execution_count": 3,
      "outputs": [
        {
          "output_type": "stream",
          "name": "stdout",
          "text": [
            "Please enter your age: 35\n",
            "You are an Adult.\n"
          ]
        }
      ]
    },
    {
      "cell_type": "markdown",
      "source": [
        "4. Functions:\n",
        "Question:\n",
        "Define a Python function named multiply_numbers that takes two parameters (num1 and num2) and returns their product. Test the function with values 5 and 7."
      ],
      "metadata": {
        "id": "y9x9lhW63t1R"
      }
    },
    {
      "cell_type": "code",
      "source": [
        "#Your code goes here\n",
        "def multiply_numbers(num1, num2):\n",
        "    return num1 * num2\n",
        "\n",
        "# Test the function with values 5 and 7\n",
        "result = multiply_numbers(5, 7)\n",
        "print(\"The product of 5 and 7 is:\", result)\n"
      ],
      "metadata": {
        "id": "kHuQ4NMa3xqT",
        "outputId": "461c2c9d-cbe0-49b9-efda-9f2c3316562a",
        "colab": {
          "base_uri": "https://localhost:8080/"
        }
      },
      "execution_count": 4,
      "outputs": [
        {
          "output_type": "stream",
          "name": "stdout",
          "text": [
            "The product of 5 and 7 is: 35\n"
          ]
        }
      ]
    },
    {
      "cell_type": "markdown",
      "source": [
        "5.\n",
        "Write a Python program that does the following:\n",
        "\n",
        "Prompts the user to enter a number (user_num).\n",
        "Uses a loop to print all numbers from 1 to user_num (inclusive) that are divisible by 3.\n"
      ],
      "metadata": {
        "id": "i8tO0E8U3zBB"
      }
    },
    {
      "cell_type": "code",
      "source": [
        "#Your code goes here\n",
        "# Prompt the user to enter a number\n",
        "user_num = int(input(\"Please enter a number: \"))\n",
        "\n",
        "print(\"Numbers from 1 to\", user_num, \"that are divisible by 3:\")\n",
        "\n",
        "# Use a loop to iterate through numbers from 1 to user_num\n",
        "for i in range(1, user_num + 1):\n",
        "    # Check if the number is divisible by 3\n",
        "    if i % 3 == 0:\n",
        "        print(i)\n"
      ],
      "metadata": {
        "id": "i4Q2MOTY31tM"
      },
      "execution_count": null,
      "outputs": []
    },
    {
      "cell_type": "markdown",
      "source": [
        "Wish you all the best,\n",
        "\n",
        "Abdul"
      ],
      "metadata": {
        "id": "mPHqYsqW33Uh"
      }
    }
  ]
}