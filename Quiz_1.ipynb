{
  "nbformat": 4,
  "nbformat_minor": 0,
  "metadata": {
    "colab": {
      "provenance": [],
      "authorship_tag": "ABX9TyO/exU3soUDfMDv0ATanaHc",
      "include_colab_link": true
    },
    "kernelspec": {
      "name": "python3",
      "display_name": "Python 3"
    },
    "language_info": {
      "name": "python"
    }
  },
  "cells": [
    {
      "cell_type": "markdown",
      "metadata": {
        "id": "view-in-github",
        "colab_type": "text"
      },
      "source": [
        "<a href=\"https://colab.research.google.com/github/ZahraaAlqahtani/MASAR1/blob/main/Quiz_1.ipynb\" target=\"_parent\"><img src=\"https://colab.research.google.com/assets/colab-badge.svg\" alt=\"Open In Colab\"/></a>"
      ]
    },
    {
      "cell_type": "code",
      "execution_count": null,
      "metadata": {
        "id": "OciRUr5h76tH"
      },
      "outputs": [],
      "source": [
        "# قائمة الأرقام\n",
        "numbers = [1, 2, 3, 4, 5, 6, 7, 8, 9, 10]\n",
        "\n",
        "# المجموع المطلوب\n",
        "target_sum = 12\n",
        "\n",
        "# قائمة لتخزين الأرقام التي تم العثور عليها\n",
        "found_numbers = []\n",
        "\n",
        "# البحث عن العددين التي يكون مجموعهما يساوي المجموع المطلوب\n",
        "for i in range(len(numbers)):\n",
        "    for j in range(i + 1, len(numbers)):\n",
        "        if numbers[i] + numbers[j] == target_sum:\n",
        "            found_numbers.append((numbers[i], numbers[j]))\n",
        "\n",
        "# طباعة النتائج\n",
        "if found_numbers:\n",
        "    print(f\"العددين التي يكون مجموعهما يساوي {target_sum}:\")\n",
        "    for pair in found_numbers:\n",
        "        print(pair[0], pair[1])\n",
        "else:\n",
        "    print(f\"لا يوجد عددين في القائمة يكون مجموعهما يساوي {target_sum}\")\n",
        "\n"
      ]
    }
  ]
}