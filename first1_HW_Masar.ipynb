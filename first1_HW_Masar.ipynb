{
  "nbformat": 4,
  "nbformat_minor": 0,
  "metadata": {
    "colab": {
      "provenance": [],
      "authorship_tag": "ABX9TyM4OGXBZ65zDZIcIESXqBx7",
      "include_colab_link": true
    },
    "kernelspec": {
      "name": "python3",
      "display_name": "Python 3"
    },
    "language_info": {
      "name": "python"
    }
  },
  "cells": [
    {
      "cell_type": "markdown",
      "metadata": {
        "id": "view-in-github",
        "colab_type": "text"
      },
      "source": [
        "<a href=\"https://colab.research.google.com/github/ZahraaAlqahtani/MASAR1/blob/main/first1_HW_Masar.ipynb\" target=\"_parent\"><img src=\"https://colab.research.google.com/assets/colab-badge.svg\" alt=\"Open In Colab\"/></a>"
      ]
    },
    {
      "cell_type": "code",
      "execution_count": 14,
      "metadata": {
        "colab": {
          "base_uri": "https://localhost:8080/"
        },
        "id": "Y0QF--FhI7iG",
        "outputId": "40cbcef7-61b4-43dc-fc9b-dff0a31bc9fc"
      },
      "outputs": [
        {
          "output_type": "stream",
          "name": "stdout",
          "text": [
            " أهلا بالجميع \n",
            " أنا اسمي:  عبدالله   عمري : 20\n",
            "سأصبح أفضل عالم بيانات  \n"
          ]
        }
      ],
      "source": [
        "# تعريف لمتغير الاسم\n",
        "\n",
        "name = \" عبدالله \"\n",
        "\n",
        "# تعريف لمتغير العمر\n",
        "\n",
        "age = 20\n",
        "print(\" أهلا بالجميع \")\n",
        "\n",
        "print (\" أنا اسمي: \" + name , \" عمري : \" + str( age)  )\n",
        "\n",
        "print (\"سأصبح أفضل عالم بيانات  \")"
      ]
    }
  ]
}