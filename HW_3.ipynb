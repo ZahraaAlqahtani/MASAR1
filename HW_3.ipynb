{
  "nbformat": 4,
  "nbformat_minor": 0,
  "metadata": {
    "colab": {
      "provenance": [],
      "authorship_tag": "ABX9TyMRDPhooo9driGvrX6jwQQc",
      "include_colab_link": true
    },
    "kernelspec": {
      "name": "python3",
      "display_name": "Python 3"
    },
    "language_info": {
      "name": "python"
    }
  },
  "cells": [
    {
      "cell_type": "markdown",
      "metadata": {
        "id": "view-in-github",
        "colab_type": "text"
      },
      "source": [
        "<a href=\"https://colab.research.google.com/github/ZahraaAlqahtani/MASAR1/blob/main/HW_3.ipynb\" target=\"_parent\"><img src=\"https://colab.research.google.com/assets/colab-badge.svg\" alt=\"Open In Colab\"/></a>"
      ]
    },
    {
      "cell_type": "code",
      "execution_count": null,
      "metadata": {
        "id": "kjCALu1U4RLf"
      },
      "outputs": [],
      "source": [
        "# Write a Python program to construct the following pattern, using a nested for loop. (Get the number of the 'stars' from the user).\n",
        "def print_pattern(num_stars):\n",
        "    # Upper half of the pattern\n",
        "    for i in range(num_stars):\n",
        "        print('* ' * (i + 1))\n",
        "\n",
        "    # Lower half of the pattern\n",
        "    for i in range(num_stars - 1, 0, -1):\n",
        "        print('* ' * i)\n",
        "\n",
        "# Get the number of stars from the user\n",
        "num_stars = int(input(\"Enter the number of stars: \"))\n",
        "\n",
        "# Call the function to print the pattern\n",
        "print_pattern(num_stars)\n"
      ]
    },
    {
      "cell_type": "code",
      "source": [
        "#  Print the first 3 prime numbers that are greater than 10 but less than 99.\n",
        "def is_prime(num):\n",
        "    if num < 2:\n",
        "        return False\n",
        "    for i in range(2, int(num ** 0.5) + 1):\n",
        "        if num % i == 0:\n",
        "            return False\n",
        "    return True\n",
        "\n",
        "def print_first_n_primes(n):\n",
        "    count = 0\n",
        "    num = 11  # Starting from 11 because the first prime greater than 10 is 11\n",
        "    while count < n:\n",
        "        if is_prime(num):\n",
        "            print(num)\n",
        "            count += 1\n",
        "        num += 1\n",
        "\n",
        "# Print the first 3 prime numbers greater than 10 and less than 99\n",
        "print(\"The first 3 prime numbers greater than 10 and less than 99 are:\")\n",
        "print_first_n_primes(3)\n"
      ],
      "metadata": {
        "id": "oHcXvy3n5QaX"
      },
      "execution_count": null,
      "outputs": []
    }
  ]
}