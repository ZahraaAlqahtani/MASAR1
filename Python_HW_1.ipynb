{
  "nbformat": 4,
  "nbformat_minor": 0,
  "metadata": {
    "colab": {
      "provenance": [],
      "authorship_tag": "ABX9TyORhQcy/aC3LQ9yQX+eFAsg",
      "include_colab_link": true
    },
    "kernelspec": {
      "name": "python3",
      "display_name": "Python 3"
    },
    "language_info": {
      "name": "python"
    }
  },
  "cells": [
    {
      "cell_type": "markdown",
      "metadata": {
        "id": "view-in-github",
        "colab_type": "text"
      },
      "source": [
        "<a href=\"https://colab.research.google.com/github/ZahraaAlqahtani/MASAR1/blob/main/Python_HW_1.ipynb\" target=\"_parent\"><img src=\"https://colab.research.google.com/assets/colab-badge.svg\" alt=\"Open In Colab\"/></a>"
      ]
    },
    {
      "cell_type": "code",
      "execution_count": 1,
      "metadata": {
        "colab": {
          "base_uri": "https://localhost:8080/"
        },
        "id": "Xlq6nfuuysj9",
        "outputId": "3ea5a62a-6280-4923-a543-67e442ff6917"
      },
      "outputs": [
        {
          "output_type": "stream",
          "name": "stdout",
          "text": [
            "أهلا بالجميع، أنا اسمي عبدالله وعمري 20، سأصبح أفضل عالم بيانات!\n"
          ]
        }
      ],
      "source": [
        "# Define the variable for your name\n",
        "name = 'عبدالله'\n",
        "\n",
        "# Define the variable for your age\n",
        "age = '20'\n",
        "\n",
        "# Print a sentence about yourself\n",
        "print(f'أهلا بالجميع، أنا اسمي {name} وعمري {age}، سأصبح أفضل عالم بيانات!')\n"
      ]
    }
  ]
}